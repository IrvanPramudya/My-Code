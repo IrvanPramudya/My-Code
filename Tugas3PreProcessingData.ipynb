{
  "nbformat": 4,
  "nbformat_minor": 0,
  "metadata": {
    "colab": {
      "name": "Tugas3PreProcessingData.ipynb",
      "provenance": []
    },
    "kernelspec": {
      "name": "python3",
      "display_name": "Python 3"
    },
    "language_info": {
      "name": "python"
    }
  },
  "cells": [
    {
      "cell_type": "code",
      "metadata": {
        "id": "P9tdocQ1i-V6"
      },
      "source": [
        "import numpy as np\n",
        "import matplotlib.pyplot as plt\n",
        "import pandas as pd"
      ],
      "execution_count": 1,
      "outputs": []
    },
    {
      "cell_type": "code",
      "metadata": {
        "id": "BM3YNHCTjc_a"
      },
      "source": [
        "dataset = pd.read_csv('bola.csv')\n",
        "x = dataset.iloc[:, :-1].values\n",
        "y = dataset.iloc[:, -1].values"
      ],
      "execution_count": 27,
      "outputs": []
    },
    {
      "cell_type": "code",
      "metadata": {
        "colab": {
          "base_uri": "https://localhost:8080/"
        },
        "id": "ET9WXXHqjkTV",
        "outputId": "7f70f981-cde1-4af0-9f9a-7ae15a537f81"
      },
      "source": [
        "print(x)"
      ],
      "execution_count": 28,
      "outputs": [
        {
          "output_type": "stream",
          "text": [
            "[['Inggris' 25.0 178.0]\n",
            " ['Argentina' 32.0 173.0]\n",
            " ['Inggris' 28.0 175.0]\n",
            " ['Jerman' 25.0 180.0]\n",
            " ['Spanyol' 29.0 nan]\n",
            " ['Inggris' 20.0 nan]\n",
            " ['Portugal' 26.0 180.0]\n",
            " ['Brazil' 35.0 185.0]\n",
            " ['Jerman' 31.0 185.0]\n",
            " ['Jerman' 31.0 180.0]\n",
            " ['Jerman' 34.0 193.0]\n",
            " ['Portugal' 36.0 187.0]\n",
            " ['Spanyol' 27.0 nan]\n",
            " ['Spanyol' 34.0 182.0]\n",
            " ['Argentina' 33.0 173.0]\n",
            " ['Brazil' 29.0 177.0]\n",
            " ['Prancis' 22.0 172.0]\n",
            " ['Prancis' nan nan]\n",
            " ['Prancis' nan nan]]\n"
          ],
          "name": "stdout"
        }
      ]
    },
    {
      "cell_type": "code",
      "metadata": {
        "colab": {
          "base_uri": "https://localhost:8080/"
        },
        "id": "B2vG1LWYjp2G",
        "outputId": "f1369777-f847-4da3-eaf6-2700cbc23630"
      },
      "source": [
        "print(y)"
      ],
      "execution_count": 29,
      "outputs": [
        {
          "output_type": "stream",
          "text": [
            "['Belum' 'Belum' 'Belum' 'Belum' 'Sudah' 'Belum' 'Belum' 'Belum' 'Sudah'\n",
            " 'Belum' 'Sudah' 'Sudah' 'Sudah' 'Sudah' 'Sudah' 'Sudah' 'Belum' 'Sudah'\n",
            " 'Belum']\n"
          ],
          "name": "stdout"
        }
      ]
    },
    {
      "cell_type": "code",
      "metadata": {
        "id": "RJCWy8Gtj32D"
      },
      "source": [
        "from sklearn.impute import SimpleImputer\n",
        "imputer = SimpleImputer(missing_values=np.nan, strategy='mean')\n",
        "imputer.fit(x[:,1:3])\n",
        "x[:, 1:3] = imputer.transform(x[:,1:3])"
      ],
      "execution_count": 30,
      "outputs": []
    },
    {
      "cell_type": "code",
      "metadata": {
        "colab": {
          "base_uri": "https://localhost:8080/"
        },
        "id": "go7JQ6y5lwE8",
        "outputId": "bb859c4a-6312-4cf5-b548-241c3d05724a"
      },
      "source": [
        "print(x)"
      ],
      "execution_count": 31,
      "outputs": [
        {
          "output_type": "stream",
          "text": [
            "[['Inggris' 25.0 178.0]\n",
            " ['Argentina' 32.0 173.0]\n",
            " ['Inggris' 28.0 175.0]\n",
            " ['Jerman' 25.0 180.0]\n",
            " ['Spanyol' 29.0 180.0]\n",
            " ['Inggris' 20.0 180.0]\n",
            " ['Portugal' 26.0 180.0]\n",
            " ['Brazil' 35.0 185.0]\n",
            " ['Jerman' 31.0 185.0]\n",
            " ['Jerman' 31.0 180.0]\n",
            " ['Jerman' 34.0 193.0]\n",
            " ['Portugal' 36.0 187.0]\n",
            " ['Spanyol' 27.0 180.0]\n",
            " ['Spanyol' 34.0 182.0]\n",
            " ['Argentina' 33.0 173.0]\n",
            " ['Brazil' 29.0 177.0]\n",
            " ['Prancis' 22.0 172.0]\n",
            " ['Prancis' 29.235294117647058 180.0]\n",
            " ['Prancis' 29.235294117647058 180.0]]\n"
          ],
          "name": "stdout"
        }
      ]
    },
    {
      "cell_type": "code",
      "metadata": {
        "id": "JU_fkC70uxNJ"
      },
      "source": [
        "from sklearn.compose import ColumnTransformer\n",
        "from sklearn.preprocessing import OneHotEncoder\n",
        "ct = ColumnTransformer(transformers=[('encoder',OneHotEncoder(),[0])], remainder ='passthrough')\n",
        "x = np.array(ct.fit_transform(x))"
      ],
      "execution_count": 32,
      "outputs": []
    },
    {
      "cell_type": "code",
      "metadata": {
        "colab": {
          "base_uri": "https://localhost:8080/"
        },
        "id": "yixpzReru2e_",
        "outputId": "f34f7ff4-c1d2-4b95-f9ce-7ca6b321abce"
      },
      "source": [
        "print(x)"
      ],
      "execution_count": 33,
      "outputs": [
        {
          "output_type": "stream",
          "text": [
            "[[0.0 0.0 1.0 0.0 0.0 0.0 0.0 25.0 178.0]\n",
            " [1.0 0.0 0.0 0.0 0.0 0.0 0.0 32.0 173.0]\n",
            " [0.0 0.0 1.0 0.0 0.0 0.0 0.0 28.0 175.0]\n",
            " [0.0 0.0 0.0 1.0 0.0 0.0 0.0 25.0 180.0]\n",
            " [0.0 0.0 0.0 0.0 0.0 0.0 1.0 29.0 180.0]\n",
            " [0.0 0.0 1.0 0.0 0.0 0.0 0.0 20.0 180.0]\n",
            " [0.0 0.0 0.0 0.0 1.0 0.0 0.0 26.0 180.0]\n",
            " [0.0 1.0 0.0 0.0 0.0 0.0 0.0 35.0 185.0]\n",
            " [0.0 0.0 0.0 1.0 0.0 0.0 0.0 31.0 185.0]\n",
            " [0.0 0.0 0.0 1.0 0.0 0.0 0.0 31.0 180.0]\n",
            " [0.0 0.0 0.0 1.0 0.0 0.0 0.0 34.0 193.0]\n",
            " [0.0 0.0 0.0 0.0 1.0 0.0 0.0 36.0 187.0]\n",
            " [0.0 0.0 0.0 0.0 0.0 0.0 1.0 27.0 180.0]\n",
            " [0.0 0.0 0.0 0.0 0.0 0.0 1.0 34.0 182.0]\n",
            " [1.0 0.0 0.0 0.0 0.0 0.0 0.0 33.0 173.0]\n",
            " [0.0 1.0 0.0 0.0 0.0 0.0 0.0 29.0 177.0]\n",
            " [0.0 0.0 0.0 0.0 0.0 1.0 0.0 22.0 172.0]\n",
            " [0.0 0.0 0.0 0.0 0.0 1.0 0.0 29.235294117647058 180.0]\n",
            " [0.0 0.0 0.0 0.0 0.0 1.0 0.0 29.235294117647058 180.0]]\n"
          ],
          "name": "stdout"
        }
      ]
    },
    {
      "cell_type": "code",
      "metadata": {
        "id": "VldSt27Pw5UC"
      },
      "source": [
        "from sklearn.preprocessing import LabelEncoder\n",
        "le = LabelEncoder()\n",
        "y = le.fit_transform(y)"
      ],
      "execution_count": 34,
      "outputs": []
    },
    {
      "cell_type": "code",
      "metadata": {
        "colab": {
          "base_uri": "https://localhost:8080/"
        },
        "id": "Q_cehMvDxACz",
        "outputId": "61ae9342-f616-45d1-cbde-5a3be0e99d60"
      },
      "source": [
        "print(y)"
      ],
      "execution_count": 36,
      "outputs": [
        {
          "output_type": "stream",
          "text": [
            "[0 0 0 0 1 0 0 0 1 0 1 1 1 1 1 1 0 1 0]\n"
          ],
          "name": "stdout"
        }
      ]
    },
    {
      "cell_type": "code",
      "metadata": {
        "id": "K4ROkjhyw8XT"
      },
      "source": [
        "from sklearn.model_selection import train_test_split\n",
        "x_train, x_test, y_train, y_test = train_test_split(x,y, test_size=0.2, random_state=1)"
      ],
      "execution_count": 35,
      "outputs": []
    },
    {
      "cell_type": "code",
      "metadata": {
        "colab": {
          "base_uri": "https://localhost:8080/"
        },
        "id": "WXaoWRM8xEjx",
        "outputId": "88409945-7395-4973-a968-9e1be986d0df"
      },
      "source": [
        "print(x_train)"
      ],
      "execution_count": 37,
      "outputs": [
        {
          "output_type": "stream",
          "text": [
            "[[0.0 0.0 1.0 0.0 0.0 0.0 0.0 28.0 175.0]\n",
            " [1.0 0.0 0.0 0.0 0.0 0.0 0.0 33.0 173.0]\n",
            " [0.0 0.0 0.0 0.0 0.0 0.0 1.0 29.0 180.0]\n",
            " [0.0 0.0 0.0 0.0 0.0 1.0 0.0 22.0 172.0]\n",
            " [0.0 1.0 0.0 0.0 0.0 0.0 0.0 35.0 185.0]\n",
            " [1.0 0.0 0.0 0.0 0.0 0.0 0.0 32.0 173.0]\n",
            " [0.0 0.0 0.0 0.0 0.0 0.0 1.0 34.0 182.0]\n",
            " [0.0 0.0 1.0 0.0 0.0 0.0 0.0 25.0 178.0]\n",
            " [0.0 0.0 0.0 0.0 0.0 1.0 0.0 29.235294117647058 180.0]\n",
            " [0.0 0.0 0.0 0.0 0.0 1.0 0.0 29.235294117647058 180.0]\n",
            " [0.0 0.0 0.0 1.0 0.0 0.0 0.0 31.0 180.0]\n",
            " [0.0 0.0 0.0 1.0 0.0 0.0 0.0 31.0 185.0]\n",
            " [0.0 0.0 0.0 0.0 0.0 0.0 1.0 27.0 180.0]\n",
            " [0.0 0.0 0.0 0.0 1.0 0.0 0.0 36.0 187.0]\n",
            " [0.0 0.0 1.0 0.0 0.0 0.0 0.0 20.0 180.0]]\n"
          ],
          "name": "stdout"
        }
      ]
    },
    {
      "cell_type": "code",
      "metadata": {
        "colab": {
          "base_uri": "https://localhost:8080/"
        },
        "id": "q6W2DGPaxMNb",
        "outputId": "da335fe5-7a85-4a02-e378-ff88cdd22b9e"
      },
      "source": [
        "print(x_test)"
      ],
      "execution_count": 38,
      "outputs": [
        {
          "output_type": "stream",
          "text": [
            "[[0.0 0.0 0.0 1.0 0.0 0.0 0.0 25.0 180.0]\n",
            " [0.0 1.0 0.0 0.0 0.0 0.0 0.0 29.0 177.0]\n",
            " [0.0 0.0 0.0 0.0 1.0 0.0 0.0 26.0 180.0]\n",
            " [0.0 0.0 0.0 1.0 0.0 0.0 0.0 34.0 193.0]]\n"
          ],
          "name": "stdout"
        }
      ]
    },
    {
      "cell_type": "code",
      "metadata": {
        "colab": {
          "base_uri": "https://localhost:8080/"
        },
        "id": "5m07YSgTxQOy",
        "outputId": "33a1c1da-4c6d-4c7f-c47e-57298e7c90f7"
      },
      "source": [
        "print(y_train)"
      ],
      "execution_count": 39,
      "outputs": [
        {
          "output_type": "stream",
          "text": [
            "[0 1 1 0 0 0 1 0 0 1 0 1 1 1 0]\n"
          ],
          "name": "stdout"
        }
      ]
    },
    {
      "cell_type": "code",
      "metadata": {
        "colab": {
          "base_uri": "https://localhost:8080/"
        },
        "id": "dVgzImzLxVCF",
        "outputId": "f78e7cd4-741a-478d-bb93-dcd47e864d24"
      },
      "source": [
        "print(y_test)"
      ],
      "execution_count": 40,
      "outputs": [
        {
          "output_type": "stream",
          "text": [
            "[0 1 0 1]\n"
          ],
          "name": "stdout"
        }
      ]
    },
    {
      "cell_type": "code",
      "metadata": {
        "id": "rDhKj8r5xaNf"
      },
      "source": [
        "from sklearn.preprocessing import StandardScaler\n",
        "sc = StandardScaler()\n",
        "x_train[:, 3:] = sc.fit_transform(x_train[:, 3:])\n",
        "x_test[:, 3:] = sc.transform(x_test[:, 3:])"
      ],
      "execution_count": 41,
      "outputs": []
    },
    {
      "cell_type": "code",
      "metadata": {
        "colab": {
          "base_uri": "https://localhost:8080/"
        },
        "id": "RZjsRb7yxee7",
        "outputId": "9f73f575-b967-42b5-bfbe-37f4149cb28a"
      },
      "source": [
        "print(x_train)"
      ],
      "execution_count": 42,
      "outputs": [
        {
          "output_type": "stream",
          "text": [
            "[[0.0 0.0 1.0 -0.3922322702763681 -0.2672612419124244\n",
            "  -0.49999999999999994 -0.49999999999999994 -0.3247981457305463\n",
            "  -0.9900901081587404]\n",
            " [1.0 0.0 0.0 -0.3922322702763681 -0.2672612419124244\n",
            "  -0.49999999999999994 -0.49999999999999994 0.8097707194925932\n",
            "  -1.4470547734627734]\n",
            " [0.0 0.0 0.0 -0.3922322702763681 -0.2672612419124244\n",
            "  -0.49999999999999994 1.9999999999999998 -0.09788437268591837\n",
            "  0.15232155510134218]\n",
            " [0.0 0.0 0.0 -0.3922322702763681 -0.2672612419124244 1.9999999999999998\n",
            "  -0.49999999999999994 -1.6862807839983136 -1.6755371061147901]\n",
            " [0.0 1.0 0.0 -0.3922322702763681 -0.2672612419124244\n",
            "  -0.49999999999999994 -0.49999999999999994 1.263598265581849\n",
            "  1.2947332183614249]\n",
            " [1.0 0.0 0.0 -0.3922322702763681 -0.2672612419124244\n",
            "  -0.49999999999999994 -0.49999999999999994 0.5828569464479653\n",
            "  -1.4470547734627734]\n",
            " [0.0 0.0 0.0 -0.3922322702763681 -0.2672612419124244\n",
            "  -0.49999999999999994 1.9999999999999998 1.036684492537221\n",
            "  0.6092862204053753]\n",
            " [0.0 0.0 1.0 -0.3922322702763681 -0.2672612419124244\n",
            "  -0.49999999999999994 -0.49999999999999994 -1.0055394648644298\n",
            "  -0.30464311020269086]\n",
            " [0.0 0.0 0.0 -0.3922322702763681 -0.2672612419124244 1.9999999999999998\n",
            "  -0.49999999999999994 -0.04449289667541788 0.15232155510134218]\n",
            " [0.0 0.0 0.0 -0.3922322702763681 -0.2672612419124244 1.9999999999999998\n",
            "  -0.49999999999999994 -0.04449289667541788 0.15232155510134218]\n",
            " [0.0 0.0 0.0 2.5495097567963927 -0.2672612419124244 -0.49999999999999994\n",
            "  -0.49999999999999994 0.3559431734033374 0.15232155510134218]\n",
            " [0.0 0.0 0.0 2.5495097567963927 -0.2672612419124244 -0.49999999999999994\n",
            "  -0.49999999999999994 0.3559431734033374 1.2947332183614249]\n",
            " [0.0 0.0 0.0 -0.3922322702763681 -0.2672612419124244\n",
            "  -0.49999999999999994 1.9999999999999998 -0.5517119187751741\n",
            "  0.15232155510134218]\n",
            " [0.0 0.0 0.0 -0.3922322702763681 3.7416573867739413 -0.49999999999999994\n",
            "  -0.49999999999999994 1.4905120386264767 1.751697883665458]\n",
            " [0.0 0.0 1.0 -0.3922322702763681 -0.2672612419124244\n",
            "  -0.49999999999999994 -0.49999999999999994 -2.1401083300875694\n",
            "  0.15232155510134218]]\n"
          ],
          "name": "stdout"
        }
      ]
    },
    {
      "cell_type": "code",
      "metadata": {
        "colab": {
          "base_uri": "https://localhost:8080/"
        },
        "id": "XrRZuvmyxpVi",
        "outputId": "51f8fa84-4d2a-4af9-af30-4d865b4e49cf"
      },
      "source": [
        "print(x_test)"
      ],
      "execution_count": 43,
      "outputs": [
        {
          "output_type": "stream",
          "text": [
            "[[0.0 0.0 0.0 2.5495097567963927 -0.2672612419124244 -0.49999999999999994\n",
            "  -0.49999999999999994 -1.0055394648644298 0.15232155510134218]\n",
            " [0.0 1.0 0.0 -0.3922322702763681 -0.2672612419124244\n",
            "  -0.49999999999999994 -0.49999999999999994 -0.09788437268591837\n",
            "  -0.5331254428547074]\n",
            " [0.0 0.0 0.0 -0.3922322702763681 3.7416573867739413 -0.49999999999999994\n",
            "  -0.49999999999999994 -0.778625691819802 0.15232155510134218]\n",
            " [0.0 0.0 0.0 2.5495097567963927 -0.2672612419124244 -0.49999999999999994\n",
            "  -0.49999999999999994 1.036684492537221 3.122591879577557]]\n"
          ],
          "name": "stdout"
        }
      ]
    }
  ]
}